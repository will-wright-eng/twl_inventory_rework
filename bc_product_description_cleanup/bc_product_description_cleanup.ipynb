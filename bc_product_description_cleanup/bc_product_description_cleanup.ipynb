{
 "cells": [
  {
   "cell_type": "code",
   "execution_count": 109,
   "metadata": {},
   "outputs": [],
   "source": []
  },
  {
   "cell_type": "code",
   "execution_count": 5,
   "metadata": {},
   "outputs": [],
   "source": [
    "# !python3 bc_product_desc_preview.py"
   ]
  },
  {
   "cell_type": "code",
   "execution_count": 113,
   "metadata": {},
   "outputs": [],
   "source": [
    "# filepath = most_recent_product_file()\n",
    "# df = product_df(filepath)\n",
    "# prod_ids = list(product_df('tables/products-2020-11-18_topPriorityGolfDiscs.csv').product_id) # disc golf set 01\n",
    "# run_process(df,prod_ids,output_folder_results,output_folder_html)"
   ]
  },
  {
   "cell_type": "code",
   "execution_count": 11,
   "metadata": {},
   "outputs": [],
   "source": [
    "import my_configs\n"
   ]
  },
  {
   "cell_type": "code",
   "execution_count": 12,
   "metadata": {},
   "outputs": [],
   "source": [
    "# most_recent_product_file()"
   ]
  },
  {
   "cell_type": "code",
   "execution_count": 15,
   "metadata": {},
   "outputs": [],
   "source": [
    "import os\n",
    "\n",
    "os.mkdir('results/'+folder_name)"
   ]
  },
  {
   "cell_type": "code",
   "execution_count": 115,
   "metadata": {},
   "outputs": [
    {
     "name": "stdout",
     "output_type": "stream",
     "text": [
      "sys:1: DtypeWarning: Columns (17,28,31,79,84,89,93,94,95,98,99,100,103,104,105,108,109,110,113,114,115,118,119,120,123,125,128,130,133,135,138,140,143,145,148,150,153,155,158,160,164,171,173,174,175,177,181,183,184,189,190) have mixed types.Specify dtype option on import or set low_memory=False.\n",
      "[Errno 17] File exists: 'results'\n",
      "Loading page (1/2)\n",
      "Rendering (2/2)                                                    \n",
      "Done                                                               \n",
      "Loading page (1/2)\n",
      "Rendering (2/2)                                                    \n",
      "Done                                                               \n",
      "Loading page (1/2)\n",
      "Rendering (2/2)                                                    \n",
      "Done                                                               \n",
      "Loading page (1/2)\n",
      "Rendering (2/2)                                                    \n",
      "Done                                                               \n",
      "Loading page (1/2)\n",
      "Rendering (2/2)                                                    \n",
      "Done                                                               \n",
      "Loading page (1/2)\n",
      "Rendering (2/2)                                                    \n",
      "Done                                                               \n",
      "Loading page (1/2)\n",
      "Rendering (2/2)                                                    \n",
      "Done                                                               \n",
      "Loading page (1/2)\n",
      "Rendering (2/2)                                                    \n",
      "Done                                                               \n",
      "Loading page (1/2)\n",
      "Rendering (2/2)                                                    \n",
      "Done                                                               \n",
      "Loading page (1/2)\n",
      "Rendering (2/2)                                                    \n",
      "Done                                                               \n",
      "Loading page (1/2)\n",
      "Rendering (2/2)                                                    \n",
      "Done                                                               \n",
      "Loading page (1/2)\n",
      "Rendering (2/2)                                                    \n",
      "Done                                                               \n",
      "Loading page (1/2)\n",
      "Rendering (2/2)                                                    \n",
      "Done                                                               \n",
      "Loading page (1/2)\n",
      "Rendering (2/2)                                                    \n",
      "Done                                                               \n",
      "Loading page (1/2)\n",
      "Rendering (2/2)                                                    \n",
      "Done                                                               \n",
      "Loading page (1/2)\n",
      "Rendering (2/2)                                                    \n",
      "Done                                                               \n",
      "Loading page (1/2)\n",
      "Rendering (2/2)                                                    \n",
      "Done                                                               \n",
      "Loading page (1/2)\n",
      "Rendering (2/2)                                                    \n",
      "Done                                                               \n",
      "Loading page (1/2)\n",
      "Rendering (2/2)                                                    \n",
      "Done                                                               \n",
      "Loading page (1/2)\n",
      "Rendering (2/2)                                                    \n",
      "Done                                                               \n",
      "Loading page (1/2)\n",
      "Rendering (2/2)                                                    \n",
      "Done                                                               \n",
      "Loading page (1/2)\n",
      "Rendering (2/2)                                                    \n",
      "Done                                                               \n",
      "Loading page (1/2)\n",
      "Rendering (2/2)                                                    \n",
      "Done                                                               \n",
      "Loading page (1/2)\n",
      "Rendering (2/2)                                                    \n",
      "Done                                                               \n",
      "Loading page (1/2)\n",
      "Rendering (2/2)                                                    \n",
      "Done                                                               \n",
      "Loading page (1/2)\n",
      "Rendering (2/2)                                                    \n",
      "Done                                                               \n",
      "Loading page (1/2)\n",
      "Rendering (2/2)                                                    \n",
      "Done                                                               \n",
      "Loading page (1/2)\n",
      "Rendering (2/2)                                                    \n",
      "Done                                                               \n",
      "Loading page (1/2)\n",
      "Rendering (2/2)                                                    \n",
      "Done                                                               \n",
      "Loading page (1/2)\n",
      "Rendering (2/2)                                                    \n",
      "Done                                                               \n",
      "Loading page (1/2)\n",
      "Rendering (2/2)                                                    \n",
      "Done                                                               \n",
      "Loading page (1/2)\n",
      "Rendering (2/2)                                                    \n",
      "Done                                                               \n",
      "Loading page (1/2)\n",
      "Rendering (2/2)                                                    \n",
      "Done                                                               \n",
      "Loading page (1/2)\n",
      "Rendering (2/2)                                                    \n",
      "Done                                                               \n"
     ]
    }
   ],
   "source": [
    "!python3 main.py"
   ]
  },
  {
   "cell_type": "code",
   "execution_count": 33,
   "metadata": {},
   "outputs": [],
   "source": [
    "import os\n",
    "\n",
    "cwd = os.getcwd()\n",
    "os.chdir(cwd+'/results')"
   ]
  },
  {
   "cell_type": "code",
   "execution_count": 35,
   "metadata": {},
   "outputs": [],
   "source": [
    "os.chdir(cwd)"
   ]
  },
  {
   "cell_type": "code",
   "execution_count": 97,
   "metadata": {},
   "outputs": [
    {
     "data": {
      "text/plain": [
       "[nan, nan, nan, nan]"
      ]
     },
     "execution_count": 97,
     "metadata": {},
     "output_type": "execute_result"
    }
   ],
   "source": [
    "import numpy as np\n",
    "[np.nan]*4"
   ]
  },
  {
   "cell_type": "code",
   "execution_count": 44,
   "metadata": {},
   "outputs": [],
   "source": [
    "res = {1:[2,2],3:[4,4]}\n",
    "df = pd.DataFrame(res).T\n",
    "df.reset_index(inplace=True)\n",
    "df.columns = ['id','old_html','new_html']\n",
    "df.to_csv(folder_name+'.csv')"
   ]
  },
  {
   "cell_type": "code",
   "execution_count": 108,
   "metadata": {},
   "outputs": [
    {
     "data": {
      "text/plain": [
       "['hi', 'my', 'name', 'is', 'frank']"
      ]
     },
     "execution_count": 108,
     "metadata": {},
     "output_type": "execute_result"
    }
   ],
   "source": [
    "def funk(x, f):\n",
    "    return [f(i) for i in x]\n",
    "\n",
    "funk(['hi', 'my', 'name', 'is', 'frank'], str)"
   ]
  },
  {
   "cell_type": "code",
   "execution_count": 45,
   "metadata": {},
   "outputs": [
    {
     "data": {
      "text/plain": [
       "'products-2020-11-18_topPriorityGolfDiscs'"
      ]
     },
     "execution_count": 45,
     "metadata": {},
     "output_type": "execute_result"
    }
   ],
   "source": [
    "folder_name"
   ]
  },
  {
   "cell_type": "code",
   "execution_count": 82,
   "metadata": {},
   "outputs": [
    {
     "data": {
      "text/plain": [
       "31"
      ]
     },
     "execution_count": 82,
     "metadata": {},
     "output_type": "execute_result"
    }
   ],
   "source": [
    "s = '''<h3>FLIGHT CHARACTERISTICS</h3><p>The Beast was issued in the era of the wide rimmed driver. The Beast was an instant classic when it was released; giving players more distance using less power. The Beast&rsquo;s high glide, high speed and high speed turn all combine to give big distance. It is suitable for beginners and pros alike. The Champion Beast is endorsed by two-time World Champion Barry Schultz. We recommend this disc for players who like the Valkyrie but want more distance.</p> <p>Information about <a title=\"Information about this plastic type\" href=\"https://www.wrightlife.com/plastic-types-and-descriptions/\">Innova's Champion plastic</a></p> <h3>FLIGHT CHARACTERISTICS</h3> <div><img class=\"__mce_add_custom__\" title=\"speed-10.gif\" src=\"https://cdn2.bigcommerce.com/server100/yt68tfv9/product_images/uploaded_images/speed-10.gif\" alt=\"speed-10.gif\" width=\"70\" height=\"62\" /><img class=\"__mce_add_custom__\" title=\"glide-5.gif\" src=\"https://cdn2.bigcommerce.com/server100/yt68tfv9/product_images/uploaded_images/glide-5.gif\" alt=\"glide-5.gif\" width=\"70\" height=\"62\" /></div> <p><img class=\"__mce_add_custom__\" title=\"turn-minus-2.gif\" src=\"https://cdn2.bigcommerce.com/server100/yt68tfv9/product_images/uploaded_images/turn-minus-2.gif\" alt=\"turn-minus-2.gif\" width=\"70\" height=\"62\" /><img class=\"__mce_add_custom__\" title=\"fade-2.gif\" src=\"https://cdn2.bigcommerce.com/server100/yt68tfv9/product_images/uploaded_images/fade-2.gif\" alt=\"fade-2.gif\" width=\"70\" height=\"62\" /><br /><a title=\"About the flight characteristics numbering system\" href=\"https://www.wrightlife.com/flight-bar-details/\">(What is this?)</a></p> <h3>SPECIFICATIONS</h3> <ul> <li>Classification: Long Distance Drivers</li> <li>Diameter: 21.2cm</li> <li>Best Choice for: Turnover distance driver, tailwind driver, novice players looking for more distance</li> </ul> <h3>More Information</h3> <p><a title=\"Wright Life staff picks\" href=\"https://www.wrightlife.com/staff-picks/\">See what the Wright Life staff have in their bag</a></p> <p><a title=\"Learn why discs fly the way they do\" href=\"https://www.wrightlife.com/the-nature-of-flight/\">Learn about the \"Nature of Disc Flight\"</a></p>'''\n",
    "\n",
    "\n",
    "# i = s.index('<p>')\n",
    "i = s.find('<p>')\n",
    "\n",
    "# s[i:]\n",
    "i"
   ]
  },
  {
   "cell_type": "code",
   "execution_count": 90,
   "metadata": {},
   "outputs": [
    {
     "data": {
      "text/plain": [
       "['./product_list_dg_stock_models.csv',\n",
       " './option_set_list.csv',\n",
       " './tables/test_list.csv',\n",
       " './tables/products-2020-11-18_topPriorityGolfDiscs.csv',\n",
       " './results/testset/testset.csv',\n",
       " './.ipynb_checkpoints/product_list_dg_stock_models-checkpoint.csv',\n",
       " './.ipynb_checkpoints/option_set_list-checkpoint.csv']"
      ]
     },
     "execution_count": 90,
     "metadata": {},
     "output_type": "execute_result"
    }
   ],
   "source": [
    "import my_utils\n",
    "[i for i in my_utils.list_files_in_directory('') if 'csv' in i]"
   ]
  },
  {
   "cell_type": "code",
   "execution_count": 85,
   "metadata": {},
   "outputs": [],
   "source": [
    "# import re\n",
    "\n",
    "# x = re.findall('<li>(.+?)</li>',s)[0]"
   ]
  },
  {
   "cell_type": "code",
   "execution_count": null,
   "metadata": {},
   "outputs": [],
   "source": []
  },
  {
   "cell_type": "code",
   "execution_count": 86,
   "metadata": {},
   "outputs": [
    {
     "data": {
      "text/plain": [
       "['HI', 'MY', 'NAME', 'IS', 'FRANK']"
      ]
     },
     "execution_count": 86,
     "metadata": {},
     "output_type": "execute_result"
    }
   ],
   "source": [
    "def funk(x, f):\n",
    "    return [f(i) for i in x]\n",
    "\n",
    "funk(['hi', 'my', 'name', 'is', 'frank'], str.upper) # pass the method itself"
   ]
  },
  {
   "cell_type": "code",
   "execution_count": 91,
   "metadata": {},
   "outputs": [
    {
     "data": {
      "text/html": [
       "<div>\n",
       "<style scoped>\n",
       "    .dataframe tbody tr th:only-of-type {\n",
       "        vertical-align: middle;\n",
       "    }\n",
       "\n",
       "    .dataframe tbody tr th {\n",
       "        vertical-align: top;\n",
       "    }\n",
       "\n",
       "    .dataframe thead th {\n",
       "        text-align: right;\n",
       "    }\n",
       "</style>\n",
       "<table border=\"1\" class=\"dataframe\">\n",
       "  <thead>\n",
       "    <tr style=\"text-align: right;\">\n",
       "      <th></th>\n",
       "      <th>Unnamed: 0</th>\n",
       "      <th>id</th>\n",
       "      <th>old_html</th>\n",
       "      <th>new_html</th>\n",
       "      <th>speed</th>\n",
       "      <th>glide</th>\n",
       "      <th>turn</th>\n",
       "      <th>fade</th>\n",
       "    </tr>\n",
       "  </thead>\n",
       "  <tbody>\n",
       "    <tr>\n",
       "      <th>0</th>\n",
       "      <td>0</td>\n",
       "      <td>126</td>\n",
       "      <td>&lt;p&gt;The Beast was issued in the era of the wide...</td>\n",
       "      <td>&lt;p&gt;The Beast was issued in the era of the wide...</td>\n",
       "      <td>10</td>\n",
       "      <td>5</td>\n",
       "      <td>minus-2</td>\n",
       "      <td>2</td>\n",
       "    </tr>\n",
       "    <tr>\n",
       "      <th>1</th>\n",
       "      <td>1</td>\n",
       "      <td>175</td>\n",
       "      <td>&lt;p&gt;It is one of the longest and fastest distan...</td>\n",
       "      <td>&lt;p&gt;It is one of the longest and fastest distan...</td>\n",
       "      <td>11</td>\n",
       "      <td>5</td>\n",
       "      <td>minus-1</td>\n",
       "      <td>3</td>\n",
       "    </tr>\n",
       "    <tr>\n",
       "      <th>2</th>\n",
       "      <td>2</td>\n",
       "      <td>428</td>\n",
       "      <td>&lt;p&gt;The SP Tsunami is DGA&amp;rsquo;s most stable f...</td>\n",
       "      <td>&lt;p&gt;The SP Tsunami is DGA&amp;rsquo;s most stable f...</td>\n",
       "      <td>10</td>\n",
       "      <td>3</td>\n",
       "      <td>zero</td>\n",
       "      <td>3</td>\n",
       "    </tr>\n",
       "    <tr>\n",
       "      <th>3</th>\n",
       "      <td>3</td>\n",
       "      <td>465</td>\n",
       "      <td>&lt;p&gt;Let&amp;rsquo;s face it - the PD2 Chaos is not ...</td>\n",
       "      <td>&lt;p&gt;Let&amp;rsquo;s face it - the PD2 Chaos is not ...</td>\n",
       "      <td>12</td>\n",
       "      <td>4</td>\n",
       "      <td>zero</td>\n",
       "      <td>4</td>\n",
       "    </tr>\n",
       "    <tr>\n",
       "      <th>4</th>\n",
       "      <td>4</td>\n",
       "      <td>552</td>\n",
       "      <td>&lt;p&gt;The Pro Orc is essentially a Beast with mor...</td>\n",
       "      <td>&lt;p&gt;The Pro Orc is essentially a Beast with mor...</td>\n",
       "      <td>10</td>\n",
       "      <td>4</td>\n",
       "      <td>minus-1</td>\n",
       "      <td>3</td>\n",
       "    </tr>\n",
       "  </tbody>\n",
       "</table>\n",
       "</div>"
      ],
      "text/plain": [
       "   Unnamed: 0   id                                           old_html  \\\n",
       "0           0  126  <p>The Beast was issued in the era of the wide...   \n",
       "1           1  175  <p>It is one of the longest and fastest distan...   \n",
       "2           2  428  <p>The SP Tsunami is DGA&rsquo;s most stable f...   \n",
       "3           3  465  <p>Let&rsquo;s face it - the PD2 Chaos is not ...   \n",
       "4           4  552  <p>The Pro Orc is essentially a Beast with mor...   \n",
       "\n",
       "                                            new_html  speed  glide     turn  \\\n",
       "0  <p>The Beast was issued in the era of the wide...     10      5  minus-2   \n",
       "1  <p>It is one of the longest and fastest distan...     11      5  minus-1   \n",
       "2  <p>The SP Tsunami is DGA&rsquo;s most stable f...     10      3     zero   \n",
       "3  <p>Let&rsquo;s face it - the PD2 Chaos is not ...     12      4     zero   \n",
       "4  <p>The Pro Orc is essentially a Beast with mor...     10      4  minus-1   \n",
       "\n",
       "   fade  \n",
       "0     2  \n",
       "1     3  \n",
       "2     3  \n",
       "3     4  \n",
       "4     3  "
      ]
     },
     "execution_count": 91,
     "metadata": {},
     "output_type": "execute_result"
    }
   ],
   "source": [
    "df = pd.read_csv('./results/testset/testset.csv')\n",
    "\n",
    "df.head()"
   ]
  },
  {
   "cell_type": "code",
   "execution_count": 92,
   "metadata": {},
   "outputs": [
    {
     "data": {
      "text/html": [
       "<div>\n",
       "<style scoped>\n",
       "    .dataframe tbody tr th:only-of-type {\n",
       "        vertical-align: middle;\n",
       "    }\n",
       "\n",
       "    .dataframe tbody tr th {\n",
       "        vertical-align: top;\n",
       "    }\n",
       "\n",
       "    .dataframe thead th {\n",
       "        text-align: right;\n",
       "    }\n",
       "</style>\n",
       "<table border=\"1\" class=\"dataframe\">\n",
       "  <thead>\n",
       "    <tr style=\"text-align: right;\">\n",
       "      <th></th>\n",
       "      <th>Unnamed: 0</th>\n",
       "      <th>id</th>\n",
       "      <th>old_html</th>\n",
       "      <th>new_html</th>\n",
       "      <th>speed</th>\n",
       "      <th>glide</th>\n",
       "      <th>turn</th>\n",
       "      <th>fade</th>\n",
       "    </tr>\n",
       "  </thead>\n",
       "  <tbody>\n",
       "    <tr>\n",
       "      <th>0</th>\n",
       "      <td>0</td>\n",
       "      <td>126</td>\n",
       "      <td>&lt;p&gt;The Beast was issued in the era of the wide...</td>\n",
       "      <td>&lt;p&gt;The Beast was issued in the era of the wide...</td>\n",
       "      <td>10</td>\n",
       "      <td>5</td>\n",
       "      <td>minus-2</td>\n",
       "      <td>2</td>\n",
       "    </tr>\n",
       "    <tr>\n",
       "      <th>1</th>\n",
       "      <td>1</td>\n",
       "      <td>175</td>\n",
       "      <td>&lt;p&gt;It is one of the longest and fastest distan...</td>\n",
       "      <td>&lt;p&gt;It is one of the longest and fastest distan...</td>\n",
       "      <td>11</td>\n",
       "      <td>5</td>\n",
       "      <td>minus-1</td>\n",
       "      <td>3</td>\n",
       "    </tr>\n",
       "    <tr>\n",
       "      <th>2</th>\n",
       "      <td>2</td>\n",
       "      <td>428</td>\n",
       "      <td>&lt;p&gt;The SP Tsunami is DGA&amp;rsquo;s most stable f...</td>\n",
       "      <td>&lt;p&gt;The SP Tsunami is DGA&amp;rsquo;s most stable f...</td>\n",
       "      <td>10</td>\n",
       "      <td>3</td>\n",
       "      <td>zero</td>\n",
       "      <td>3</td>\n",
       "    </tr>\n",
       "    <tr>\n",
       "      <th>3</th>\n",
       "      <td>3</td>\n",
       "      <td>465</td>\n",
       "      <td>&lt;p&gt;Let&amp;rsquo;s face it - the PD2 Chaos is not ...</td>\n",
       "      <td>&lt;p&gt;Let&amp;rsquo;s face it - the PD2 Chaos is not ...</td>\n",
       "      <td>12</td>\n",
       "      <td>4</td>\n",
       "      <td>zero</td>\n",
       "      <td>4</td>\n",
       "    </tr>\n",
       "    <tr>\n",
       "      <th>4</th>\n",
       "      <td>4</td>\n",
       "      <td>552</td>\n",
       "      <td>&lt;p&gt;The Pro Orc is essentially a Beast with mor...</td>\n",
       "      <td>&lt;p&gt;The Pro Orc is essentially a Beast with mor...</td>\n",
       "      <td>10</td>\n",
       "      <td>4</td>\n",
       "      <td>minus-1</td>\n",
       "      <td>3</td>\n",
       "    </tr>\n",
       "    <tr>\n",
       "      <th>5</th>\n",
       "      <td>5</td>\n",
       "      <td>1538</td>\n",
       "      <td>&lt;p&gt;Get your grip on! The Innova Destroyer is n...</td>\n",
       "      <td>&lt;p&gt;Get your grip on! The Innova Destroyer is n...</td>\n",
       "      <td>12</td>\n",
       "      <td>5</td>\n",
       "      <td>minus-1</td>\n",
       "      <td>3</td>\n",
       "    </tr>\n",
       "    <tr>\n",
       "      <th>6</th>\n",
       "      <td>6</td>\n",
       "      <td>1725</td>\n",
       "      <td>&lt;p&gt;The Orc is essentially a Beast with more st...</td>\n",
       "      <td>&lt;p&gt;The Orc is essentially a Beast with more st...</td>\n",
       "      <td>10</td>\n",
       "      <td>4</td>\n",
       "      <td>minus-1</td>\n",
       "      <td>3</td>\n",
       "    </tr>\n",
       "    <tr>\n",
       "      <th>7</th>\n",
       "      <td>7</td>\n",
       "      <td>2752</td>\n",
       "      <td>&lt;p&gt;The defining characteristic of the Fireball...</td>\n",
       "      <td>&lt;p&gt;The defining characteristic of the Fireball...</td>\n",
       "      <td>9</td>\n",
       "      <td>35</td>\n",
       "      <td>zero</td>\n",
       "      <td>35</td>\n",
       "    </tr>\n",
       "    <tr>\n",
       "      <th>8</th>\n",
       "      <td>8</td>\n",
       "      <td>2967</td>\n",
       "      <td>&lt;p&gt;The Photon is best described as a longer Te...</td>\n",
       "      <td>&lt;p&gt;The Photon is best described as a longer Te...</td>\n",
       "      <td>11</td>\n",
       "      <td>5</td>\n",
       "      <td>minus-1</td>\n",
       "      <td>25</td>\n",
       "    </tr>\n",
       "    <tr>\n",
       "      <th>9</th>\n",
       "      <td>9</td>\n",
       "      <td>2973</td>\n",
       "      <td>&lt;p&gt;The TeeBird3 is a faster version of the reg...</td>\n",
       "      <td>&lt;p&gt;The TeeBird3 is a faster version of the reg...</td>\n",
       "      <td>8</td>\n",
       "      <td>4</td>\n",
       "      <td>zero</td>\n",
       "      <td>2</td>\n",
       "    </tr>\n",
       "    <tr>\n",
       "      <th>10</th>\n",
       "      <td>10</td>\n",
       "      <td>3368</td>\n",
       "      <td>&lt;p&gt;&lt;span style=\"color: #000000; font-family: V...</td>\n",
       "      <td>&lt;p&gt;&lt;span style=\"color: #000000; font-family: V...</td>\n",
       "      <td>2</td>\n",
       "      <td>4</td>\n",
       "      <td>zero</td>\n",
       "      <td>1</td>\n",
       "    </tr>\n",
       "    <tr>\n",
       "      <th>11</th>\n",
       "      <td>11</td>\n",
       "      <td>3603</td>\n",
       "      <td>&lt;div class=\"longdescription\"&gt;The Vanish will b...</td>\n",
       "      <td>&lt;div class=\"longdescription\"&gt;The Vanish will b...</td>\n",
       "      <td>11</td>\n",
       "      <td>5</td>\n",
       "      <td>minus-3</td>\n",
       "      <td>2</td>\n",
       "    </tr>\n",
       "    <tr>\n",
       "      <th>12</th>\n",
       "      <td>12</td>\n",
       "      <td>3839</td>\n",
       "      <td>&lt;p&gt;The Photon is best described as a longer Te...</td>\n",
       "      <td>&lt;p&gt;The Photon is best described as a longer Te...</td>\n",
       "      <td>11</td>\n",
       "      <td>5</td>\n",
       "      <td>minus-1</td>\n",
       "      <td>25</td>\n",
       "    </tr>\n",
       "    <tr>\n",
       "      <th>13</th>\n",
       "      <td>13</td>\n",
       "      <td>4036</td>\n",
       "      <td>&lt;div class=\"ProductDescriptionContainer prodAc...</td>\n",
       "      <td>&lt;p&gt;The Innova Mystere is a new speed 11 distan...</td>\n",
       "      <td>11</td>\n",
       "      <td>6</td>\n",
       "      <td>minus-2</td>\n",
       "      <td>2</td>\n",
       "    </tr>\n",
       "    <tr>\n",
       "      <th>14</th>\n",
       "      <td>14</td>\n",
       "      <td>7405</td>\n",
       "      <td>&lt;p&gt;The Defy is a stable-overstable high speed ...</td>\n",
       "      <td>&lt;p&gt;The Defy is a stable-overstable high speed ...</td>\n",
       "      <td>11</td>\n",
       "      <td>5</td>\n",
       "      <td>minus-1</td>\n",
       "      <td>3</td>\n",
       "    </tr>\n",
       "  </tbody>\n",
       "</table>\n",
       "</div>"
      ],
      "text/plain": [
       "    Unnamed: 0    id                                           old_html  \\\n",
       "0            0   126  <p>The Beast was issued in the era of the wide...   \n",
       "1            1   175  <p>It is one of the longest and fastest distan...   \n",
       "2            2   428  <p>The SP Tsunami is DGA&rsquo;s most stable f...   \n",
       "3            3   465  <p>Let&rsquo;s face it - the PD2 Chaos is not ...   \n",
       "4            4   552  <p>The Pro Orc is essentially a Beast with mor...   \n",
       "5            5  1538  <p>Get your grip on! The Innova Destroyer is n...   \n",
       "6            6  1725  <p>The Orc is essentially a Beast with more st...   \n",
       "7            7  2752  <p>The defining characteristic of the Fireball...   \n",
       "8            8  2967  <p>The Photon is best described as a longer Te...   \n",
       "9            9  2973  <p>The TeeBird3 is a faster version of the reg...   \n",
       "10          10  3368  <p><span style=\"color: #000000; font-family: V...   \n",
       "11          11  3603  <div class=\"longdescription\">The Vanish will b...   \n",
       "12          12  3839  <p>The Photon is best described as a longer Te...   \n",
       "13          13  4036  <div class=\"ProductDescriptionContainer prodAc...   \n",
       "14          14  7405  <p>The Defy is a stable-overstable high speed ...   \n",
       "\n",
       "                                             new_html  speed  glide     turn  \\\n",
       "0   <p>The Beast was issued in the era of the wide...     10      5  minus-2   \n",
       "1   <p>It is one of the longest and fastest distan...     11      5  minus-1   \n",
       "2   <p>The SP Tsunami is DGA&rsquo;s most stable f...     10      3     zero   \n",
       "3   <p>Let&rsquo;s face it - the PD2 Chaos is not ...     12      4     zero   \n",
       "4   <p>The Pro Orc is essentially a Beast with mor...     10      4  minus-1   \n",
       "5   <p>Get your grip on! The Innova Destroyer is n...     12      5  minus-1   \n",
       "6   <p>The Orc is essentially a Beast with more st...     10      4  minus-1   \n",
       "7   <p>The defining characteristic of the Fireball...      9     35     zero   \n",
       "8   <p>The Photon is best described as a longer Te...     11      5  minus-1   \n",
       "9   <p>The TeeBird3 is a faster version of the reg...      8      4     zero   \n",
       "10  <p><span style=\"color: #000000; font-family: V...      2      4     zero   \n",
       "11  <div class=\"longdescription\">The Vanish will b...     11      5  minus-3   \n",
       "12  <p>The Photon is best described as a longer Te...     11      5  minus-1   \n",
       "13  <p>The Innova Mystere is a new speed 11 distan...     11      6  minus-2   \n",
       "14  <p>The Defy is a stable-overstable high speed ...     11      5  minus-1   \n",
       "\n",
       "    fade  \n",
       "0      2  \n",
       "1      3  \n",
       "2      3  \n",
       "3      4  \n",
       "4      3  \n",
       "5      3  \n",
       "6      3  \n",
       "7     35  \n",
       "8     25  \n",
       "9      2  \n",
       "10     1  \n",
       "11     2  \n",
       "12    25  \n",
       "13     2  \n",
       "14     3  "
      ]
     },
     "execution_count": 92,
     "metadata": {},
     "output_type": "execute_result"
    }
   ],
   "source": [
    "df"
   ]
  },
  {
   "cell_type": "code",
   "execution_count": 106,
   "metadata": {},
   "outputs": [
    {
     "data": {
      "text/plain": [
       "'Are you searching for a reliable putter with stable flight? Then it is time to challenge the course with the Gauntlet, a high profile putt and approach disc with a beaded rim. A stable flyer with good glide makes it a handy weapon in every bag. It is similar to the Macana but with a less rounded lower rim. Hit your target dead center with the Gauntlet!'"
      ]
     },
     "execution_count": 106,
     "metadata": {},
     "output_type": "execute_result"
    }
   ],
   "source": [
    "s = '''Are you searching for a reliable putter with stable flight? Then it is time to challenge the course with the Gauntlet, a high profile putt and approach disc with a beaded rim. A stable flyer with good glide makes it a handy weapon in every bag. It is similar to the Macana but with a less rounded lower rim. Hit your target dead center with the Gauntlet!'''\n",
    "\n",
    "s"
   ]
  },
  {
   "cell_type": "code",
   "execution_count": 107,
   "metadata": {},
   "outputs": [
    {
     "data": {
      "text/plain": [
       "'Are you searching for a reliable putter with stable flight? then it is time to challenge the course with the gauntlet, a high profile putt and approach disc with a beaded rim. a stable flyer with good glide makes it a handy weapon in every bag. it is similar to the macana but with a less rounded lower rim. hit your target dead center with the gauntlet!'"
      ]
     },
     "execution_count": 107,
     "metadata": {},
     "output_type": "execute_result"
    }
   ],
   "source": [
    "s.capitalize()"
   ]
  },
  {
   "cell_type": "code",
   "execution_count": null,
   "metadata": {},
   "outputs": [],
   "source": []
  }
 ],
 "metadata": {
  "kernelspec": {
   "display_name": "Python 3",
   "language": "python",
   "name": "python3"
  },
  "language_info": {
   "codemirror_mode": {
    "name": "ipython",
    "version": 3
   },
   "file_extension": ".py",
   "mimetype": "text/x-python",
   "name": "python",
   "nbconvert_exporter": "python",
   "pygments_lexer": "ipython3",
   "version": "3.7.6"
  }
 },
 "nbformat": 4,
 "nbformat_minor": 4
}
