{
 "cells": [
  {
   "cell_type": "code",
   "execution_count": 22,
   "metadata": {},
   "outputs": [],
   "source": [
    "%reset -f\n",
    "\n",
    "import pandas as pd\n",
    "import re\n",
    "\n",
    "from my_utils import list_files_in_directory, process_cols_v2\n",
    "\n",
    "pd.set_option('display.max_columns', None)\n",
    "pd.set_option('display.max_rows', None)\n",
    "\n",
    "def product_df():\n",
    "    '''product_df docstring\n",
    "    return most recent product export from bigcommerce'''\n",
    "    path = ''\n",
    "    files = list_files_in_directory(path)\n",
    "    x = [i for i in files if 'products-' in i]\n",
    "    x.sort()\n",
    "    filepath = x[-1]\n",
    "\n",
    "    df = pd.read_csv(filepath)\n",
    "    df.columns = process_cols_v2(df.columns)\n",
    "    return df\n",
    "\n",
    "df = product_df()"
   ]
  },
  {
   "cell_type": "code",
   "execution_count": 26,
   "metadata": {},
   "outputs": [
    {
     "data": {
      "text/plain": [
       "'<p>D-line P3 is fast for a putter and a very torque resistant flyer. It has lower profile than normal putter and can be used as a mid-range too. It is a stable disc with predictable fade at the end. It&acute;s a hybrid between the putter and mid-range &ndash; you make the call! The P3\\'s best weapon is it\\'s versatility - it\\'s an awesome flyer off the tee and a great tool for putting too. For the fans of fade-in putters out there this disc is a must try. We recommend this disc to players looking for a good throwing putter.</p> <p>Information about <a title=\"Information about this plastic type\" href=\"https://www.wrightlife.com/plastic-types-and-descriptions/\">Discmania D-Line plastic</a></p> <h3>FLIGHT CHARACTERISTICS</h3> <div><img class=\"__mce_add_custom__\" title=\"speed-3.gif\" src=\"https://cdn2.bigcommerce.com/server100/yt68tfv9/product_images/uploaded_images/speed-3.gif\" alt=\"speed-3.gif\" width=\"70\" height=\"62\" /><img class=\"__mce_add_custom__\" title=\"glide-2.gif\" src=\"https://cdn2.bigcommerce.com/server100/yt68tfv9/product_images/uploaded_images/glide-2.gif\" alt=\"glide-2.gif\" width=\"70\" height=\"62\" /></div> <p><img class=\"__mce_add_custom__\" title=\"turn-zero.gif\" src=\"https://cdn2.bigcommerce.com/server100/yt68tfv9/product_images/uploaded_images/turn-zero.gif\" alt=\"turn-zero.gif\" width=\"70\" height=\"62\" /><img class=\"__mce_add_custom__\" title=\"fade-3.gif\" src=\"https://cdn2.bigcommerce.com/server100/yt68tfv9/product_images/uploaded_images/fade-3.gif\" alt=\"fade-3.gif\" width=\"70\" height=\"62\" /><br /><a title=\"About the flight characteristics numbering system\" href=\"https://www.wrightlife.com/flight-bar-details/\">(What is this?)</a></p> <h3>SPECIFICATIONS</h3> <ul> <li>Classification: Putter</li> <li>Diameter: 21.2cm</li> <li>Best Choice for: Wind putter, off the tee putter, in between a putter and a mid-range</li> </ul> <h3>More Information</h3> <p><a title=\"Wright Life staff picks\" href=\"https://www.wrightlife.com/staff-picks/\">See what the Wright Life staff have in their bag</a></p> <p><a title=\"Learn why discs fly the way they do\" href=\"https://www.wrightlife.com/the-nature-of-flight/\">Learn about the \"Nature of Disc Flight\"</a></p>'"
      ]
     },
     "execution_count": 26,
     "metadata": {},
     "output_type": "execute_result"
    }
   ],
   "source": [
    "ndf = df.loc[df.item_type == 'Product']\n",
    "y = ndf.product_description[0]\n",
    "y"
   ]
  },
  {
   "cell_type": "code",
   "execution_count": 27,
   "metadata": {},
   "outputs": [],
   "source": [
    "def flight_chars_dict(x):\n",
    "    patterns = ['title=\"speed-(.+?)gif','title=\"glide-(.+?)gif','title=\"turn-(.+?)gif','title=\"fade-(.+?)gif']\n",
    "    cats = ['speed','glide','turn','fade']\n",
    "    d = {}\n",
    "    for pattern, cat in zip(patterns,cats):\n",
    "        match = re.findall(pattern,x)\n",
    "        if len(match)==1:\n",
    "            d[cat] = match[0].replace('.','')\n",
    "    return d\n",
    "\n",
    "def clean_titles(x):\n",
    "    # extract h3 titles\n",
    "    # loop through un-modified titles and sub title-case titles with h2 in place of h3\n",
    "    h3_titles = re.findall('<h3>(.+?)</h3>',x)\n",
    "    h3 = '<h3>{}</h3>'\n",
    "    h2 = '<h2>{}</h2>'\n",
    "    for i,j in zip(h3_titles,[i.title() for i in h3_titles]):\n",
    "        x = re.sub(h3.format(i),h2.format(j),x)\n",
    "    return x\n",
    "\n",
    "def remove_content(x):\n",
    "    # remove \"Info about plastic\" section\n",
    "    # remove everything after more information\n",
    "    regex_list = ['<h3>FLIGHT CHARACTERISTICS</h3> <div>.+?</a></p>',\n",
    "                  '<p>Information about <a title=\"Information about this plastic type.+?</p>',\n",
    "                  '<h3>More Information</h3> <p>.+'\n",
    "                 ]\n",
    "    for i in regex_list:\n",
    "        x = re.sub(i,'',x)\n",
    "    return x\n",
    "\n",
    "def add_flight_chars(d,x):\n",
    "    '''add_chars docstring\n",
    "    appends bullet list of flight chars to end'''\n",
    "    temp = []\n",
    "    temp.append('<h2>Flight Characteristics</h2> <ul>')\n",
    "    for i in d:\n",
    "        temp.append('<li>{}</li>'.format(i.title()+': '+d[i]))\n",
    "    temp.append('</ul>')\n",
    "    temp = ' '.join(temp)\n",
    "    temp = temp.replace('zero','0')\n",
    "    return x+temp\n",
    "\n",
    "d = flight_chars_dict(y)\n",
    "x = remove_content(y)\n",
    "x = clean_titles(x)\n",
    "x = add_flight_chars(d,x)"
   ]
  },
  {
   "cell_type": "code",
   "execution_count": 28,
   "metadata": {},
   "outputs": [
    {
     "data": {
      "text/plain": [
       "\"<p>D-line P3 is fast for a putter and a very torque resistant flyer. It has lower profile than normal putter and can be used as a mid-range too. It is a stable disc with predictable fade at the end. It&acute;s a hybrid between the putter and mid-range &ndash; you make the call! The P3's best weapon is it's versatility - it's an awesome flyer off the tee and a great tool for putting too. For the fans of fade-in putters out there this disc is a must try. We recommend this disc to players looking for a good throwing putter.</p>   <h2>Specifications</h2> <ul> <li>Classification: Putter</li> <li>Diameter: 21.2cm</li> <li>Best Choice for: Wind putter, off the tee putter, in between a putter and a mid-range</li> </ul> <h2>Flight Characteristics</h2> <ul> <li>Speed: 3</li> <li>Glide: 2</li> <li>Turn: 0</li> <li>Fade: 3</li> </ul>\""
      ]
     },
     "execution_count": 28,
     "metadata": {},
     "output_type": "execute_result"
    }
   ],
   "source": [
    "x"
   ]
  },
  {
   "cell_type": "code",
   "execution_count": null,
   "metadata": {},
   "outputs": [],
   "source": []
  }
 ],
 "metadata": {
  "kernelspec": {
   "display_name": "Python 3",
   "language": "python",
   "name": "python3"
  },
  "language_info": {
   "codemirror_mode": {
    "name": "ipython",
    "version": 3
   },
   "file_extension": ".py",
   "mimetype": "text/x-python",
   "name": "python",
   "nbconvert_exporter": "python",
   "pygments_lexer": "ipython3",
   "version": "3.7.6"
  }
 },
 "nbformat": 4,
 "nbformat_minor": 4
}
