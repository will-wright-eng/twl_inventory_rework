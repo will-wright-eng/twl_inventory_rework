{
 "cells": [
  {
   "cell_type": "code",
   "execution_count": 307,
   "metadata": {},
   "outputs": [],
   "source": [
    "%reset -f\n",
    "\n",
    "# import glob\n",
    "import os\n",
    "import pandas as pd\n",
    "import numpy as np\n",
    "import re\n",
    "import datetime as dt\n",
    "\n",
    "today = str(dt.datetime.today()).split(' ')[0]\n",
    "pd.set_option(\"display.max_rows\", 500)\n",
    "pd.set_option(\"display.max_columns\", 500)"
   ]
  },
  {
   "cell_type": "code",
   "execution_count": 307,
   "metadata": {},
   "outputs": [],
   "source": [
    "'''\n",
    "create class for bigcommerce inventory export\n",
    "\n",
    "attributes:\n",
    "- original columns\n",
    "- new columns\n",
    "- column mapping table\n",
    "- original dataframe\n",
    "- reduced df (parameterize \"Discraft Products\")\n",
    "- Product columns (df.count() --> columns with greater than 10 non-null instances)\n",
    "- SKU columns (df.count() --> columns with greater than 10 non-null instances)\n",
    "\n",
    "methods:\n",
    "- process and updated columns, output with mapping table\n",
    "- custom columns --> disc cols labeling loop\n",
    "- reduce df, parameterized for type == \"Product\" and \"Discraft Products\"\n",
    "- stats table (not executed until called)\n",
    "'''"
   ]
  },
  {
   "cell_type": "code",
   "execution_count": 316,
   "metadata": {},
   "outputs": [],
   "source": [
    "from bc_product_table_fxns import list_files_in_directory,vendor_label,plastic_label,model_label,find_year,remove_labels,set_len_col,df_stats,join_into_to_stats_table,split_category,label_categories,process_csv_step_one,process_csv_step_two,reduced_table,clean_cols,join_bulk_import_label"
   ]
  },
  {
   "cell_type": "code",
   "execution_count": 309,
   "metadata": {},
   "outputs": [
    {
     "name": "stderr",
     "output_type": "stream",
     "text": [
      "/Users/williamwright/anaconda3/lib/python3.7/site-packages/IPython/core/interactiveshell.py:3063: DtypeWarning: Columns (5,7,16,34,37,38,39,111,112,113,114,118,119,120,121,125,126,127,128,132,133,134,135,139,140,141,142,146,147,148,149,153,154,155,156,160,161,162,163,167,168,169,170,174,175,176,181,182,183,188,189,190,195,196,197,202,203,204,209,210,211,216,217,218,223,224,225,239,240,242,243,245,246,248,249,251,252,254,255,257,258,262,267,269,270,275,276,277,282,283) have mixed types.Specify dtype option on import or set low_memory=False.\n",
      "  interactivity=interactivity, compiler=compiler, result=result)\n"
     ]
    }
   ],
   "source": [
    "filename = './bigcommerce/products-2020-08-02.csv'\n",
    "df = pd.read_csv(filename)\n",
    "df.columns = clean_cols(list(df))\n",
    "\n",
    "df = process_csv_step_one(df)\n",
    "df = process_csv_step_two(df)\n",
    "# # filename = './bigcommerce/'+today+'_discraft_products_clean.csv'\n",
    "# # df.to_csv(filename,index=False)"
   ]
  },
  {
   "cell_type": "code",
   "execution_count": 296,
   "metadata": {},
   "outputs": [],
   "source": [
    "# filename = './bigcommerce/'+today+'_discraft_products_reduced.csv'\n",
    "# df.to_csv(filename,index=False)"
   ]
  },
  {
   "cell_type": "code",
   "execution_count": 295,
   "metadata": {},
   "outputs": [],
   "source": [
    "# include = ['Disc Golf','Freestyle Frisbee','Ultimate Frisbee']\n",
    "# l = set(df.category_0)\n",
    "# l1 = []\n",
    "# l2 = []\n",
    "# for i in l:\n",
    "#     flag = False\n",
    "#     for j in include:\n",
    "#         if j in i:\n",
    "#             flag = True\n",
    "#     if flag:\n",
    "#         l1.append(i)\n",
    "#     else:\n",
    "#         l2.append(i)\n",
    "# print(l1,'\\n\\n',l2)"
   ]
  },
  {
   "cell_type": "code",
   "execution_count": 317,
   "metadata": {},
   "outputs": [],
   "source": [
    "stats_table, cols = df_stats(df)\n",
    "stats_table = join_into_to_stats_table(stats_table)\n",
    "# filename = './bigcommerce/'+today+'_discraft_products_reduced_stats_table_with_info.csv'\n",
    "# d.to_csv(filename)\n",
    "d = join_bulk_import_label(stats_table)"
   ]
  },
  {
   "cell_type": "code",
   "execution_count": 290,
   "metadata": {},
   "outputs": [],
   "source": [
    "# # d.sort_values(by='set_len', ascending=True)\n",
    "# d.loc[d['percent']>50]#.loc[d['set_length']<100]"
   ]
  },
  {
   "cell_type": "code",
   "execution_count": 1,
   "metadata": {},
   "outputs": [],
   "source": [
    "# d.count()"
   ]
  },
  {
   "cell_type": "code",
   "execution_count": null,
   "metadata": {},
   "outputs": [],
   "source": []
  },
  {
   "cell_type": "code",
   "execution_count": null,
   "metadata": {},
   "outputs": [],
   "source": []
  }
 ],
 "metadata": {
  "kernelspec": {
   "display_name": "Python 3",
   "language": "python",
   "name": "python3"
  },
  "language_info": {
   "codemirror_mode": {
    "name": "ipython",
    "version": 3
   },
   "file_extension": ".py",
   "mimetype": "text/x-python",
   "name": "python",
   "nbconvert_exporter": "python",
   "pygments_lexer": "ipython3",
   "version": "3.7.6"
  }
 },
 "nbformat": 4,
 "nbformat_minor": 4
}
