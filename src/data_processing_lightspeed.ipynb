{
 "cells": [
  {
   "cell_type": "code",
   "execution_count": 2,
   "metadata": {},
   "outputs": [],
   "source": [
    "%reset -f\n",
    "\n",
    "import os\n",
    "import pandas as pd\n",
    "import numpy as np\n",
    "import re\n",
    "import datetime as dt\n",
    "\n",
    "from utility_fxns import list_files_in_directory,process_cols_v2,gen_cols_dict,distribute\n",
    "from ls_fxns_base import sku_combo_dicts_v2,import_template_cols,gen_prod_matrix,extract_and_dict\n",
    "\n",
    "today = str(dt.datetime.today()).split(' ')[0]\n",
    "pd.set_option(\"display.max_rows\", 500)\n",
    "pd.set_option(\"display.max_columns\", 500)\n",
    "\n",
    "path = '.'\n",
    "file_list = list_files_in_directory(path)"
   ]
  },
  {
   "cell_type": "code",
   "execution_count": 3,
   "metadata": {},
   "outputs": [
    {
     "name": "stderr",
     "output_type": "stream",
     "text": [
      "/Users/williamwright/Documents/data_projects/DP-20-007_twl/src/ls_fxns_base.py:79: SettingWithCopyWarning: \n",
      "A value is trying to be set on a copy of a slice from a DataFrame\n",
      "\n",
      "See the caveats in the documentation: https://pandas.pydata.org/pandas-docs/stable/user_guide/indexing.html#returning-a-view-versus-a-copy\n",
      "  matrix.system_id[0] = sys_id\n",
      "/Users/williamwright/Documents/data_projects/DP-20-007_twl/src/ls_fxns_base.py:81: SettingWithCopyWarning: \n",
      "A value is trying to be set on a copy of a slice from a DataFrame\n",
      "\n",
      "See the caveats in the documentation: https://pandas.pydata.org/pandas-docs/stable/user_guide/indexing.html#returning-a-view-versus-a-copy\n",
      "  matrix.upc[0] = upc\n"
     ]
    }
   ],
   "source": [
    "df,id_dict,cols_dict = extract_and_dict(file_list)\n",
    "test = True\n",
    "if test:\n",
    "    id_dict = {'1550':id_dict['1550']}\n",
    "mfg_code = 'DIS'\n",
    "msets = []\n",
    "color_dicts,weight_dict = sku_combo_dicts_v2(file_list)\n",
    "for prod in list(id_dict):\n",
    "    return_flag,matrix = gen_prod_matrix(df,id_dict,mfg_code,prod,color_dicts,weight_dict)\n",
    "    if return_flag:\n",
    "        msets.append(matrix)\n",
    "ndf = pd.concat(msets,axis=0)\n",
    "\n",
    "# file = today+'_full_list.csv'\n",
    "file = today+'_1505_test.csv'\n",
    "filename = '../lightspeed/data_imports/'+file\n",
    "ncols = [ 'Attribute 1'\n",
    "        , 'Attribute 2'\n",
    "        , 'Matrix Attribute Set'\n",
    "        , 'Matrix Description'\n",
    "        , 'Description']\n",
    "for i in ncols:\n",
    "    cols_dict.update({i.lower().replace(' ','_'):i})\n",
    "ndf.columns = [cols_dict[i] for i in ndf.columns]\n",
    "ndf = ndf.dropna(axis=1, how='all')\n",
    "ndf = ndf.fillna('')\n",
    "ndf.to_csv(filename,index=False)"
   ]
  },
  {
   "cell_type": "code",
   "execution_count": 6,
   "metadata": {},
   "outputs": [],
   "source": [
    "# ndf"
   ]
  },
  {
   "cell_type": "code",
   "execution_count": 5,
   "metadata": {},
   "outputs": [],
   "source": [
    "# matrix['description'] = matrix['matrix_description']+' '+matrix['attribute_1']+' '+matrix['attribute_2']"
   ]
  },
  {
   "cell_type": "code",
   "execution_count": null,
   "metadata": {},
   "outputs": [],
   "source": []
  },
  {
   "cell_type": "code",
   "execution_count": null,
   "metadata": {},
   "outputs": [],
   "source": []
  }
 ],
 "metadata": {
  "kernelspec": {
   "display_name": "Python 3",
   "language": "python",
   "name": "python3"
  },
  "language_info": {
   "codemirror_mode": {
    "name": "ipython",
    "version": 3
   },
   "file_extension": ".py",
   "mimetype": "text/x-python",
   "name": "python",
   "nbconvert_exporter": "python",
   "pygments_lexer": "ipython3",
   "version": "3.7.6"
  }
 },
 "nbformat": 4,
 "nbformat_minor": 4
}
