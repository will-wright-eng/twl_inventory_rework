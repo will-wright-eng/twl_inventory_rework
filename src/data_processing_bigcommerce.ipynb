{
 "cells": [
  {
   "cell_type": "markdown",
   "metadata": {},
   "source": [
    "0. create retain table of clean product data\n",
    "    - import column stats table with retain/update label\n",
    "    - clean retain info\n",
    "1. complete product table with updated info\n",
    "    - segment retain table into option sets\n",
    "    - populate updated cols with info specfic to option set (left join with intentional fanning)\n",
    "2. create sku rows/combinations\n",
    "    - retain product IDs if present, otherwise create new SKUs (with BW model)\n",
    "    - loop through products and create successive rows that correspond to option sets"
   ]
  },
  {
   "cell_type": "code",
   "execution_count": 1,
   "metadata": {},
   "outputs": [],
   "source": [
    "%reset -f\n",
    "\n",
    "# import glob\n",
    "import os\n",
    "import pandas as pd\n",
    "import numpy as np\n",
    "import re\n",
    "import datetime as dt\n",
    "\n",
    "from utility_fxns import list_files_in_directory,process_cols,gen_cols_dict\n",
    "from bc_fxns_core import full_inventory_df_info,gen_prod_id_dict,gen_import_table_with_skus#,pull_list_of_prods,keep_nonempty_cols\n",
    "from bc_fxns_base import sku_combo_dicts#,generate_sku_info,sku_struct,generate_id_dict,clean_products_df\n",
    "\n",
    "today = str(dt.datetime.today()).split(' ')[0]\n",
    "pd.set_option(\"display.max_rows\", 500)\n",
    "pd.set_option(\"display.max_columns\", 500)\n",
    "\n",
    "path = '.'\n",
    "x = list_files_in_directory(path)"
   ]
  },
  {
   "cell_type": "code",
   "execution_count": null,
   "metadata": {},
   "outputs": [],
   "source": []
  },
  {
   "cell_type": "code",
   "execution_count": 2,
   "metadata": {},
   "outputs": [
    {
     "name": "stderr",
     "output_type": "stream",
     "text": [
      "/Users/williamwright/anaconda3/lib/python3.7/site-packages/IPython/core/interactiveshell.py:3254: DtypeWarning: Columns (10,17,28,31,49,54,59,64,69,74,78,79,80,83,84,85,88,89,90,93,94,95,98,99,100,103,104,105,108,109,110,113,114,115,118,119,120,123,125,128,130,133,135,138,140,143,145,148,150,153,155,158,160,162,163,164,165,171,173,174,175,177,182,183,184,189,190) have mixed types.Specify dtype option on import or set low_memory=False.\n",
      "  if (await self.run_code(code, result,  async_=asy)):\n"
     ]
    },
    {
     "name": "stdout",
     "output_type": "stream",
     "text": [
      "Ultimate Frisbee;Ultimate Frisbee\n",
      "Ultimate Frisbee;Ultimate Frisbee\n",
      "Ultimate Frisbee;Ultimate Frisbee\n",
      "Freestyle Frisbee;Freestyle Frisbee\n",
      "Freestyle Frisbee;Freestyle Frisbee\n",
      "Ultimate Frisbee;Ultimate Frisbee\n",
      "Ultimate Frisbee;Ultimate Frisbee\n",
      "Ultimate Frisbee;Ultimate Frisbee\n",
      "Ultimate Frisbee;Ultimate Frisbee\n",
      "Ultimate Frisbee;Ultimate Frisbee\n",
      "Rare & Vintage;Disc Golf\n",
      "Rare & Vintage;Disc Golf\n",
      "Rare & Vintage;Disc Golf\n",
      "Ultimate Frisbee;Recreational Discs\n",
      "Recreational Discs;Ultimate Frisbee\n",
      "Freestyle Frisbee;Freestyle Frisbee\n",
      "Ultimate Frisbee;Rare & Vintage;Rare & Vintage\n",
      "Freestyle Frisbee;Freestyle Frisbee\n",
      "Ultimate Frisbee;Ultimate Frisbee\n",
      "Ultimate Frisbee;Ultimate Frisbee\n",
      "Ultimate Frisbee;Ultimate Frisbee\n",
      "Ultimate Frisbee;Rare & Vintage;Rare & Vintage\n",
      "Ultimate Frisbee;Rare & Vintage;Rare & Vintage\n",
      "Ultimate Frisbee;Recreational Discs;Ultimate Frisbee\n",
      "Ultimate Frisbee;Recreational Discs;Ultimate Frisbee\n",
      "Ultimate Frisbee;Recreational Discs;Ultimate Frisbee\n",
      "Ultimate Frisbee;Rare & Vintage;Rare & Vintage\n"
     ]
    }
   ],
   "source": [
    "# extract info from cleaned bigcommerce product table\n",
    "category_col = 'category_0'\n",
    "index_by = 'product_code_sku'\n",
    "stock_field = 'current_stock_level'\n",
    "file = 'master_list_discraft_skus.csv'\n",
    "# file = '2020-08-09_discraft_products_reduced.csv'\n",
    "filename = [i for i in file_list if file in i][0]\n",
    "test = False\n",
    "prod_ids = gen_prod_id_dict(filename,index_by,category_col,test)\n",
    "\n",
    "# load full bigcommerce inventory then index prod_ids with sku count and sku prod ids\n",
    "file = 'products-2020-08-16.csv'\n",
    "filename = [i for i in file_list if file in i][0]\n",
    "df, id_list, id_dict, df, cols_dict = full_inventory_df_info(filename,index_by,prod_ids)\n",
    "\n",
    "# loop through discraft product list and pull sequence of skus under each product in list\n",
    "# feed product ids and stock values into functions above\n",
    "\n",
    "mfg_code = 'DIS'\n",
    "ndf = gen_import_table_with_skus(df, prod_ids, id_dict, index_by, stock_field, mfg_code)\n",
    "file = today+'_full_list.csv'\n",
    "filename = '../bigcommerce/product_imports/'+file\n",
    "ndf.columns = [cols_dict[i] for i in ndf.columns]\n",
    "ndf.to_csv(filename,index=False)"
   ]
  },
  {
   "cell_type": "code",
   "execution_count": 7,
   "metadata": {},
   "outputs": [],
   "source": [
    "# filename = './bigcommerce/product_imports/1550_test_import01.csv'\n",
    "# file = today+'_category_test_set.csv'\n"
   ]
  },
  {
   "cell_type": "code",
   "execution_count": 12,
   "metadata": {},
   "outputs": [],
   "source": [
    "# import string\n",
    "# import itertools\n",
    "\n",
    "\n",
    "# def generate_strings(length=3):\n",
    "#     chars = string.ascii_letters + string.digits  # \"abcdefghijklmnopqrstuvwxyzABCDEFGHIJKLMNOPQRSTUVWXYZ0123456789\"\n",
    "#     for item in itertools.product(chars, repeat=length):\n",
    "#         yield \"\".join(item)\n",
    "        \n",
    "# next(generate_strings())"
   ]
  },
  {
   "cell_type": "code",
   "execution_count": 13,
   "metadata": {},
   "outputs": [],
   "source": [
    "# for i in range(10):\n",
    "#     print(next(generate_strings()))"
   ]
  },
  {
   "cell_type": "code",
   "execution_count": null,
   "metadata": {},
   "outputs": [],
   "source": []
  }
 ],
 "metadata": {
  "kernelspec": {
   "display_name": "Python 3",
   "language": "python",
   "name": "python3"
  },
  "language_info": {
   "codemirror_mode": {
    "name": "ipython",
    "version": 3
   },
   "file_extension": ".py",
   "mimetype": "text/x-python",
   "name": "python",
   "nbconvert_exporter": "python",
   "pygments_lexer": "ipython3",
   "version": "3.7.6"
  }
 },
 "nbformat": 4,
 "nbformat_minor": 4
}
